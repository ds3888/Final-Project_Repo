{
 "cells": [
  {
   "cell_type": "code",
   "execution_count": 6,
   "id": "63fb0777-df6d-407f-81a4-f9a270fc421c",
   "metadata": {},
   "outputs": [
    {
     "ename": "ModuleNotFoundError",
     "evalue": "No module named 'skimage'",
     "output_type": "error",
     "traceback": [
      "\u001b[1;31m---------------------------------------------------------------------------\u001b[0m",
      "\u001b[1;31mModuleNotFoundError\u001b[0m                       Traceback (most recent call last)",
      "Cell \u001b[1;32mIn[6], line 3\u001b[0m\n\u001b[0;32m      1\u001b[0m \u001b[38;5;28;01mimport\u001b[39;00m \u001b[38;5;21;01mos\u001b[39;00m\n\u001b[0;32m      2\u001b[0m \u001b[38;5;28;01mimport\u001b[39;00m \u001b[38;5;21;01mnumpy\u001b[39;00m \u001b[38;5;28;01mas\u001b[39;00m \u001b[38;5;21;01mnp\u001b[39;00m\n\u001b[1;32m----> 3\u001b[0m \u001b[38;5;28;01mfrom\u001b[39;00m \u001b[38;5;21;01mskimage\u001b[39;00m\u001b[38;5;21;01m.\u001b[39;00m\u001b[38;5;21;01mio\u001b[39;00m \u001b[38;5;28;01mimport\u001b[39;00m imread\n\u001b[0;32m      4\u001b[0m \u001b[38;5;28;01mfrom\u001b[39;00m \u001b[38;5;21;01mskimage\u001b[39;00m\u001b[38;5;21;01m.\u001b[39;00m\u001b[38;5;21;01mtransform\u001b[39;00m \u001b[38;5;28;01mimport\u001b[39;00m resize\n\u001b[0;32m      5\u001b[0m \u001b[38;5;28;01mimport\u001b[39;00m \u001b[38;5;21;01mmatplotlib\u001b[39;00m\u001b[38;5;21;01m.\u001b[39;00m\u001b[38;5;21;01mpyplot\u001b[39;00m \u001b[38;5;28;01mas\u001b[39;00m \u001b[38;5;21;01mplt\u001b[39;00m\n",
      "\u001b[1;31mModuleNotFoundError\u001b[0m: No module named 'skimage'"
     ]
    }
   ],
   "source": [
    "import os\n",
    "import numpy as np\n",
    "from skimage.io import imread\n",
    "from skimage.transform import resize\n",
    "import matplotlib.pyplot as plt\n",
    "\n",
    "# Define paths to the dataset folders\n",
    "positive_dir = \"C:/Users/shahd/OneDrive/Desktop/crack detection/archive.zip/Positive\"\n",
    "negative_dir = \"C:/Users/shahd/OneDrive/Desktop/crack detection/archive.zip/Negative\"\n",
    "\n",
    "# Set image dimensions (adjust based on your preference)\n",
    "img_height, img_width = 128, 128\n",
    "\n",
    "# Load images and labels\n",
    "def load_images_from_folder(folder, label, img_height, img_width):\n",
    "    images = []\n",
    "    labels = []\n",
    "    for filename in os.listdir(folder):\n",
    "        img_path = os.path.join(folder, filename)\n",
    "        img = imread(img_path)  # Load image\n",
    "        img_resized = resize(img, (img_height, img_width))  # Resize to standard dimensions\n",
    "        images.append(img_resized)\n",
    "        labels.append(label)  # Assign label\n",
    "    return images, labels\n",
    "\n",
    "# Load positive and negative images\n",
    "positive_images, positive_labels = load_images_from_folder(positive_dir, 1, img_height, img_width)\n",
    "negative_images, negative_labels = load_images_from_folder(negative_dir, 0, img_height, img_width)\n",
    "\n",
    "# Combine into a dataset\n",
    "all_images = np.array(positive_images + negative_images)\n",
    "all_labels = np.array(positive_labels + negative_labels)\n"
   ]
  },
  {
   "cell_type": "code",
   "execution_count": null,
   "id": "8c90a89a-a49c-4441-85fe-f8d99c0abe17",
   "metadata": {},
   "outputs": [],
   "source": []
  }
 ],
 "metadata": {
  "kernelspec": {
   "display_name": "Python 3 (ipykernel)",
   "language": "python",
   "name": "python3"
  },
  "language_info": {
   "codemirror_mode": {
    "name": "ipython",
    "version": 3
   },
   "file_extension": ".py",
   "mimetype": "text/x-python",
   "name": "python",
   "nbconvert_exporter": "python",
   "pygments_lexer": "ipython3",
   "version": "3.13.0"
  }
 },
 "nbformat": 4,
 "nbformat_minor": 5
}
